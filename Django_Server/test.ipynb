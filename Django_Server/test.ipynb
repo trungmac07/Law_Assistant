{
 "cells": [
  {
   "cell_type": "code",
   "execution_count": 1,
   "metadata": {},
   "outputs": [
    {
     "name": "stderr",
     "output_type": "stream",
     "text": [
      "e:\\Code\\Project\\Law_Assistant\\.venv\\Lib\\site-packages\\sentence_transformers\\cross_encoder\\CrossEncoder.py:11: TqdmWarning: IProgress not found. Please update jupyter and ipywidgets. See https://ipywidgets.readthedocs.io/en/stable/user_install.html\n",
      "  from tqdm.autonotebook import tqdm, trange\n"
     ]
    }
   ],
   "source": [
    "import openai\n",
    "from sentence_transformers import SentenceTransformer\n",
    "import datasets, accelerate\n",
    "import torch\n",
    "import torch.nn.functional as F\n",
    "import os\n",
    "\n",
    "device =\"cuda\" if torch.cuda.is_available() else \"cpu\""
   ]
  },
  {
   "cell_type": "code",
   "execution_count": 24,
   "metadata": {},
   "outputs": [],
   "source": [
    "f = open(\".key\")\n",
    "org = f.readline().strip()\n",
    "api_key = f.readline().strip()"
   ]
  },
  {
   "cell_type": "code",
   "execution_count": 25,
   "metadata": {},
   "outputs": [
    {
     "name": "stdout",
     "output_type": "stream",
     "text": [
      "org-RGQs6pctYkiwR9b9jSv3rGkq\n",
      "sk-KIQAwBuf2P83cUWc8KwnL_qYAuIa2KvFSRna7Ml9neT3BlbkFJ-3N3foxvMiBvoiQ36tOvuzHGul33ZFtd8RyT91S6QA\n"
     ]
    }
   ],
   "source": [
    "from openai import OpenAI\n",
    "\n",
    "client = OpenAI(\n",
    "    organization=org,\n",
    "    api_key = api_key\n",
    ")\n",
    "\n",
    "print(org)\n",
    "print(api_key)"
   ]
  },
  {
   "cell_type": "code",
   "execution_count": 26,
   "metadata": {},
   "outputs": [],
   "source": [
    "model = SentenceTransformer(\n",
    "    \"checkpoint-204\", device=device, truncate_dim = 64\n",
    ")\n"
   ]
  },
  {
   "cell_type": "code",
   "execution_count": 27,
   "metadata": {},
   "outputs": [
    {
     "name": "stdout",
     "output_type": "stream",
     "text": [
      "1000\n",
      "2000\n",
      "3000\n",
      "4000\n",
      "5000\n",
      "6000\n",
      "7000\n",
      "8000\n",
      "9000\n",
      "10000\n",
      "11000\n",
      "12000\n",
      "13000\n",
      "14000\n",
      "15000\n",
      "16000\n",
      "17000\n",
      "18000\n",
      "19000\n",
      "20000\n",
      "21000\n",
      "22000\n",
      "23000\n",
      "24000\n"
     ]
    }
   ],
   "source": [
    "all_laws = []\n",
    "\n",
    "files = sorted(os.listdir(\"preprocessed_laws\"))\n",
    "\n",
    "for i,file in enumerate(files):\n",
    "    if((i+1) % 1000 == 0):\n",
    "        print(i+1)\n",
    "    f = open(\"preprocessed_laws/\" + file, 'r', encoding=\"utf-8\")\n",
    "    l = f.read()\n",
    "    all_laws.append(l[:3500])\n"
   ]
  },
  {
   "cell_type": "code",
   "execution_count": 28,
   "metadata": {},
   "outputs": [
    {
     "name": "stdout",
     "output_type": "stream",
     "text": [
      "24721\n",
      "[01_2011_QH13] \n",
      "\n",
      "LUẬT LƯU TRỮ\n",
      "Điều 1. Phạm vi điều chỉnh và đối tượng áp dụng\n",
      "\n",
      "Khoản 1, 2:\n",
      "\n",
      "1. Luật này quy định về hoạt động lưu trữ; quyền và nghĩa vụ của cơ quan, tổ chức, cá nhân trong hoạt động lưu trữ; đào tạo, bồi dưỡng nghiệp vụ lưu trữ; hoạt động dịch vụ lưu trữ và quản lý về lưu trữ.\n",
      "2. Luật này áp dụng đối với cơ quan nhà nước, tổ chức chính trị, tổ chức chính trị - xã hội, tổ chức chính trị xã hội - nghề nghiệp, tổ chức xã hội, tổ chức xã hội - nghề nghiệp, tổ chức kinh tế, đơn vị sự nghiệp, đơn vị vũ trang nhân dân (sau đây gọi chung là cơ quan, tổ chức) và cá nhân.\n",
      "\n"
     ]
    }
   ],
   "source": [
    "print(len(all_laws))\n",
    "print(all_laws[0])"
   ]
  },
  {
   "cell_type": "code",
   "execution_count": 7,
   "metadata": {},
   "outputs": [
    {
     "name": "stdout",
     "output_type": "stream",
     "text": [
      "torch.Size([24721, 1, 64])\n"
     ]
    },
    {
     "name": "stderr",
     "output_type": "stream",
     "text": [
      "C:\\Users\\Trung\\AppData\\Local\\Temp\\ipykernel_5756\\3830621532.py:1: FutureWarning: You are using `torch.load` with `weights_only=False` (the current default value), which uses the default pickle module implicitly. It is possible to construct malicious pickle data which will execute arbitrary code during unpickling (See https://github.com/pytorch/pytorch/blob/main/SECURITY.md#untrusted-models for more details). In a future release, the default value for `weights_only` will be flipped to `True`. This limits the functions that could be executed during unpickling. Arbitrary objects will no longer be allowed to be loaded via this mode unless they are explicitly allowlisted by the user via `torch.serialization.add_safe_globals`. We recommend you start setting `weights_only=True` for any use case where you don't have full control of the loaded file. Please open an issue on GitHub for any issues related to this experimental feature.\n",
      "  vector_db = torch.tensor(torch.load('embedding_64.pt'), dtype=float).to(device)\n",
      "C:\\Users\\Trung\\AppData\\Local\\Temp\\ipykernel_5756\\3830621532.py:1: UserWarning: To copy construct from a tensor, it is recommended to use sourceTensor.clone().detach() or sourceTensor.clone().detach().requires_grad_(True), rather than torch.tensor(sourceTensor).\n",
      "  vector_db = torch.tensor(torch.load('embedding_64.pt'), dtype=float).to(device)\n"
     ]
    }
   ],
   "source": [
    "vector_db = torch.tensor(torch.load('embedding_64.pt'), dtype=float).to(device)\n",
    "print(vector_db.shape)\n"
   ]
  },
  {
   "cell_type": "code",
   "execution_count": 8,
   "metadata": {},
   "outputs": [],
   "source": [
    "def fine_related_doc(question, n = 3):\n",
    "    embedding = torch.tensor([model.encode(question)], dtype = float).to(device)\n",
    "    \n",
    "    max_sim = []\n",
    "\n",
    "    for i,v in enumerate(vector_db):\n",
    "        if((i+1) % 5000 == 0):\n",
    "            print(f\"{i+1}/{vector_db.shape[0]}\")\n",
    "        sim = F.cosine_similarity(embedding, v)\n",
    "        \n",
    "        if(sim >= 0.6):\n",
    "            max_sim.append((sim,i))\n",
    "\n",
    "    print(\"Process Done\")\n",
    "    print(\"Finding Related Docs...\")\n",
    "\n",
    "    max_sim = sorted(max_sim, key=lambda x: x[0], reverse=True)\n",
    "\n",
    "    docs = []\n",
    "    for i in max_sim[:n]:\n",
    "        print(i)\n",
    "        docs.append(all_laws[i[1]])\n",
    "    return docs\n"
   ]
  },
  {
   "cell_type": "code",
   "execution_count": 9,
   "metadata": {},
   "outputs": [],
   "source": [
    "q = \"\"\"\n",
    "\n",
    "    Quyền trẻ em là gì ?\n",
    "    \n",
    "\"\"\""
   ]
  },
  {
   "cell_type": "code",
   "execution_count": 10,
   "metadata": {},
   "outputs": [
    {
     "name": "stderr",
     "output_type": "stream",
     "text": [
      "C:\\Users\\Trung\\AppData\\Local\\Temp\\ipykernel_5756\\1961435994.py:2: UserWarning: Creating a tensor from a list of numpy.ndarrays is extremely slow. Please consider converting the list to a single numpy.ndarray with numpy.array() before converting to a tensor. (Triggered internally at C:\\actions-runner\\_work\\pytorch\\pytorch\\builder\\windows\\pytorch\\torch\\csrc\\utils\\tensor_new.cpp:281.)\n",
      "  embedding = torch.tensor([model.encode(question)], dtype = float).to(device)\n"
     ]
    },
    {
     "name": "stdout",
     "output_type": "stream",
     "text": [
      "5000/24721\n",
      "10000/24721\n",
      "15000/24721\n",
      "20000/24721\n",
      "Process Done\n",
      "Finding Related Docs...\n",
      "(tensor([0.7332], device='cuda:0', dtype=torch.float64), 4096)\n",
      "(tensor([0.7197], device='cuda:0', dtype=torch.float64), 4115)\n",
      "(tensor([0.7106], device='cuda:0', dtype=torch.float64), 4099)\n"
     ]
    }
   ],
   "source": [
    "related_docs = fine_related_doc(q)\n",
    "\n",
    "prompt = \"Tôi cung cấp cho bạn một số văn bản pháp luật có liên quan như sau: \\n\\n\"\n",
    "\n",
    "for doc in related_docs:\n",
    "    prompt += doc + \"\\n\\n\"\n",
    "\n",
    "prompt += f\"Bạn sẽ là người từ vấn pháp luật cho tôi. Từ những văn bản pháp luật trên, hãy giúp tôi trả lời câu hỏi sau: \\n\\n {q} \\n CHÚ Ý: Nếu các văn bản không liên quan hoặc không cung cấp đủ thông tin thì hãy từ chối trả lời câu hỏi.\"\n",
    "\n"
   ]
  },
  {
   "cell_type": "code",
   "execution_count": 11,
   "metadata": {},
   "outputs": [
    {
     "name": "stdout",
     "output_type": "stream",
     "text": [
      "[102_2016_QH13] \n",
      "\n",
      "LUẬT TRẺ EM\n",
      "Điều 4. Giải thích từ ngữ\n",
      "\n",
      "Khoản 1, 2, 3:\n",
      "Trong Luật này, các từ ngữ dưới đây được hiểu như sau:\n",
      "\n",
      "1. Bảo vệ trẻ em là việc thực hiện các biện pháp phù hợp để bảo đảm trẻ em được sống an toàn, lành mạnh; phòng ngừa, ngăn chặn và xử lý các hành vi xâm hại trẻ em; trợ giúp trẻ em có hoàn cảnh đặc biệt.\n",
      "2. Phát triển toàn diện của trẻ em là sự phát triển đồng thời cả về thể chất, trí tuệ, tinh thần, đạo đức và mối quan hệ xã hội của trẻ em.\n",
      "3. Chăm sóc thay thế là việc tổ chức, gia đình, cá nhân nhận trẻ em về chăm sóc, nuôi dưỡng khi trẻ em không còn cha mẹ; trẻ em không được hoặc không thể sống cùng cha đẻ, mẹ đẻ; trẻ em bị ảnh hưởng bởi thiên tai, thảm họa, xung đột vũ trang nhằm bảo đảm sự an toàn và lợi ích tốt nhất của trẻ em.\n",
      "\n",
      "[102_2016_QH13] \n",
      "\n",
      "LUẬT TRẺ EM\n",
      "Điều 15. Quyền được chăm sóc, nuôi dưỡng\n",
      "Trẻ em có quyền được chăm sóc, nuôi dưỡng để phát triển toàn diện.\n",
      "\n",
      "[102_2016_QH13] \n",
      "\n",
      "LUẬT TRẺ EM\n",
      "Điều 4. Giải thích từ ngữ\n",
      "\n",
      "Khoản 10, 11:\n",
      "\n",
      "10. Trẻ em có hoàn cảnh đặc biệt là trẻ em không đủ điều kiện thực hiện được quyền sống, quyền được bảo vệ, quyền được chăm sóc, nuôi dưỡng, quyền học tập, cần có sự hỗ trợ, can thiệp đặc biệt của Nhà nước, gia đình và xã hội để được an toàn, hòa nhập gia đình, cộng đồng.\n",
      "11. Giám sát việc thực hiện quyền trẻ em theo ý kiến, nguyện vọng của trẻ em là việc xem xét, đánh giá hoạt động của các cơ quan, tổ chức, cá nhân liên quan về trách nhiệm bảo đảm thực hiện quyền trẻ em và giải quyết các ý kiến, kiến nghị của trẻ em, bảo đảm lợi ích tốt nhất của trẻ em.\n",
      "\n"
     ]
    }
   ],
   "source": [
    "for doc in related_docs:\n",
    "    print(doc)\n"
   ]
  },
  {
   "cell_type": "code",
   "execution_count": 30,
   "metadata": {},
   "outputs": [
    {
     "name": "stdout",
     "output_type": "stream",
     "text": [
      "Từ các văn bản pháp luật bạn cung cấp, quyền trẻ em có thể hiểu như sau:\n",
      "\n",
      "1. **Quyền được chăm sóc, nuôi dưỡng**: Theo Điều 15 của Luật Trẻ em, trẻ em có quyền được chăm sóc, nuôi dưỡng để phát triển toàn diện.\n",
      "\n",
      "2. **Quyền sống và được bảo vệ**: Điều 4, Khoản 10 định nghĩa trẻ em có hoàn cảnh đặc biệt là những trẻ em không đủ điều kiện thực hiện quyền sống và quyền được bảo vệ. Điều này ngầm hiểu rằng quyền sống và quyền được bảo vệ là những quyền cơ bản của trẻ em.\n",
      "\n",
      "3. **Quyền phát triển toàn diện**: Điều 4, Khoản 2 nêu rõ phát triển toàn diện của trẻ em bao gồm sự phát triển về thể chất, trí tuệ, tinh thần, đạo đức và mối quan hệ xã hội.\n",
      "\n",
      "4. **Giám sát việc thực hiện quyền trẻ em**: Điều 4, Khoản 11 đề cập đến việc giám sát thực hiện quyền trẻ em, cho thấy rằng trẻ em có quyền được lắng nghe ý kiến và nguyện vọng của mình trong các vấn đề liên quan đến cuộc sống và sự phát triển.\n",
      "\n",
      "Tóm lại, quyền trẻ em là những quyền cơ bản liên quan đến sự tồn tại, sự phát triển toàn diện và sự bảo vệ trẻ em khỏi các hành vi xâm hại, bao gồm quyền được chăm sóc và nuôi dưỡng."
     ]
    }
   ],
   "source": [
    "\n",
    "\n",
    "stream = client.chat.completions.create(\n",
    "    model=\"gpt-4o-mini\",\n",
    "    messages=[{\"role\": \"user\", \"content\": f\"{prompt}\"}],\n",
    "    stream=True,\n",
    ")\n",
    "for chunk in stream:\n",
    "    if chunk.choices[0].delta.content is not None:\n",
    "        print(chunk.choices[0].delta.content, end=\"\")"
   ]
  }
 ],
 "metadata": {
  "kernelspec": {
   "display_name": ".venv",
   "language": "python",
   "name": "python3"
  },
  "language_info": {
   "codemirror_mode": {
    "name": "ipython",
    "version": 3
   },
   "file_extension": ".py",
   "mimetype": "text/x-python",
   "name": "python",
   "nbconvert_exporter": "python",
   "pygments_lexer": "ipython3",
   "version": "3.11.9"
  }
 },
 "nbformat": 4,
 "nbformat_minor": 2
}
